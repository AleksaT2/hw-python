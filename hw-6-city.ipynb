{
 "cells": [
  {
   "cell_type": "code",
   "execution_count": 110,
   "id": "6a17070d-6dc7-46e7-8ea9-c02603a79eac",
   "metadata": {},
   "outputs": [],
   "source": [
    "class Person:\n",
    "    def __init__(self, firstName, lastName, gender):\n",
    "        \n",
    "        if not isinstance(firstName, str) or not isinstance(lastName, str) or not isinstance(gender, str):\n",
    "            raise TypeError(\"First name, last name, and gender must be strings\")\n",
    "        \n",
    "        self.lastName = lastName\n",
    "        self.firstName = firstName\n",
    "        self.gender = gender\n",
    "        \n",
    "    def __str__(self):\n",
    "        return f\"{self.lastName} {self.firstName}\""
   ]
  },
  {
   "cell_type": "code",
   "execution_count": 111,
   "id": "f3f8fc59-724f-423e-8562-b69fe51ccd90",
   "metadata": {},
   "outputs": [],
   "source": [
    "class Spouse(Person):\n",
    "    def __init__(self, firstName, lastName, gender, spouse):\n",
    "        super().__init__(firstName, lastName, gender)\n",
    "\n",
    "        if not isinstance(spouse, Person):\n",
    "            raise TypeError(\"Spouse must be a Person object\")\n",
    "        \n",
    "        self.spouse = spouse\n",
    "\n",
    "    def getFamilyName(self):\n",
    "        return self.spouse.lastName\n",
    "        \n",
    "    def __str__(self):\n",
    "        return f\" {self.lastName} {self.firstName}\""
   ]
  },
  {
   "cell_type": "code",
   "execution_count": 112,
   "id": "9b60b50e-db3f-4da2-999f-31d91fd8c96b",
   "metadata": {},
   "outputs": [],
   "source": [
    "class Family:\n",
    "    def __init__(self, firstMember):\n",
    "        \n",
    "        if not isinstance(firstMember, Person):\n",
    "            raise TypeError(\"First member must be a Person object\")\n",
    "            \n",
    "        self.firstMember = firstMember\n",
    "        self.members = [firstMember]\n",
    "\n",
    "    def addMember(self, member):\n",
    "\n",
    "        if not isinstance(member, Person):\n",
    "            raise TypeError(\"Member must be a Person object\")\n",
    "        \n",
    "        self.members.append(member)\n",
    "\n",
    "    def getMembers(self):\n",
    "        return self.members\n",
    "        \n",
    "    def __str__(self):\n",
    "        return f\"{', '.join(str(member) for member in self.members)}\"\n",
    "        "
   ]
  },
  {
   "cell_type": "code",
   "execution_count": 113,
   "id": "3b4f7514-a9fc-4d09-b09f-e0d909cb815b",
   "metadata": {},
   "outputs": [],
   "source": [
    "class Child(Person):\n",
    "    def __init__(self, firstName, lastName, gender, father, mother):\n",
    "        super().__init__(firstName, lastName, gender)\n",
    "\n",
    "        if not isinstance(father, Person) or not isinstance(mother, Person):\n",
    "            raise TypeError(\"Father and mother must be Person objects\")\n",
    "            \n",
    "        self.father = father\n",
    "        self.mother = mother\n",
    "\n",
    "    def getMiddleName(self):\n",
    "        return self.father.firstName + \"ович\" if self.gender == \"male\" else self.father.firstName + \"овна\"\n",
    "        \n",
    "    def __str__(self):\n",
    "        return f\"{self.lastName} {self.firstName} {self.getMiddleName()}\""
   ]
  },
  {
   "cell_type": "code",
   "execution_count": 114,
   "id": "d6ec048e-5d96-421e-9361-84556ee7967b",
   "metadata": {},
   "outputs": [],
   "source": [
    "class City:\n",
    "    def __init__(self):\n",
    "        self.families = []\n",
    "\n",
    "    def addFamily(self, family):\n",
    "        \n",
    "        if not isinstance(family, Family):\n",
    "            raise TypeError(\"Family must be a Family object\")\n",
    "        \n",
    "        self.families.append(family)\n",
    "\n",
    "    def getFamilies(self):\n",
    "        return self.families\n",
    "        \n",
    "    def __str__(self):\n",
    "        return f\"{', '.join(str(family) for family in self.families)}\""
   ]
  },
  {
   "cell_type": "code",
   "execution_count": null,
   "id": "e5006116-8bf1-4c8e-9640-1f11460bd7a8",
   "metadata": {},
   "outputs": [],
   "source": []
  },
  {
   "cell_type": "code",
   "execution_count": 117,
   "id": "f87ebdbd-058c-442a-9920-79e4c31d52c6",
   "metadata": {},
   "outputs": [
    {
     "name": "stdout",
     "output_type": "stream",
     "text": [
      "Иванов Иван\n",
      "Иванов Иван\n",
      " Иванова Мария\n",
      "Иванов Иван,  Иванова Мария\n",
      "Иванов Иван,  Иванова Мария, Иванов Петр Иванович\n",
      "Иванов Иван,  Иванова Мария, Иванов Петр Иванович\n",
      "Отчество ребенка: Иванович\n"
     ]
    }
   ],
   "source": [
    "# Создание главы семьи\n",
    "personIvan = Person(\"Иван\", \"Иванов\", \"male\")\n",
    "print(personIvan)\n",
    "# Создание семьи\n",
    "\n",
    "family = Family(personIvan)\n",
    "print(family)\n",
    "# Создание супруги\n",
    "wife = Spouse(\"Мария\", \"Иванова\", \"female\", personIvan)\n",
    "print(wife)\n",
    "# Добавление супруги в семью\n",
    "family.addMember(wife)\n",
    "print(family)\n",
    "# Создание ребенка\n",
    "child = Child(\"Петр\", \"Иванов\", \"male\", personIvan, wife)\n",
    "\n",
    "# Добавление ребенка в семью\n",
    "family.addMember(child)\n",
    "print(family)\n",
    "# Создание города\n",
    "city = City()\n",
    "\n",
    "# Добавление семьи в город\n",
    "city.addFamily(family)\n",
    "print(city)\n",
    "# Получение списка членов семьи\n",
    "\n",
    "# Вывод отчества ребенка\n",
    "print(f\"Отчество ребенка: {child.getMiddleName()}\")"
   ]
  },
  {
   "cell_type": "code",
   "execution_count": null,
   "id": "1572a53d-5a77-4c70-9199-aa8615dbed89",
   "metadata": {},
   "outputs": [],
   "source": []
  },
  {
   "cell_type": "code",
   "execution_count": null,
   "id": "7f159eb8-c216-4e0b-9c18-ce04f34ce05f",
   "metadata": {},
   "outputs": [],
   "source": []
  },
  {
   "cell_type": "code",
   "execution_count": null,
   "id": "cd1fb056-2685-4788-886a-d1c042ac28fe",
   "metadata": {},
   "outputs": [],
   "source": []
  }
 ],
 "metadata": {
  "kernelspec": {
   "display_name": "Python 3 (ipykernel)",
   "language": "python",
   "name": "python3"
  },
  "language_info": {
   "codemirror_mode": {
    "name": "ipython",
    "version": 3
   },
   "file_extension": ".py",
   "mimetype": "text/x-python",
   "name": "python",
   "nbconvert_exporter": "python",
   "pygments_lexer": "ipython3",
   "version": "3.11.5"
  }
 },
 "nbformat": 4,
 "nbformat_minor": 5
}
